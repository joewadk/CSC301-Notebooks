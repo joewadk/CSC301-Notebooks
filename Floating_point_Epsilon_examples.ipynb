{
 "cells": [
  {
   "cell_type": "markdown",
   "metadata": {},
   "source": [
    "1) What can possibly go wrong with logic statement\n",
    "$0.1 + 0.2 == 0.3$\n",
    "?"
   ]
  },
  {
   "cell_type": "code",
   "execution_count": null,
   "metadata": {},
   "outputs": [],
   "source": [
    "0.1 + 0.2 == 0.3"
   ]
  },
  {
   "cell_type": "code",
   "execution_count": null,
   "metadata": {},
   "outputs": [],
   "source": [
    "x = 0.1\n",
    "y = 0.2\n",
    "x + y == 0.3"
   ]
  },
  {
   "cell_type": "code",
   "execution_count": null,
   "metadata": {},
   "outputs": [],
   "source": [
    "x = 0.1\n",
    "print(x)\n",
    "y = 0.2\n",
    "print(y)\n",
    "print((x + y))"
   ]
  },
  {
   "cell_type": "code",
   "execution_count": null,
   "metadata": {},
   "outputs": [],
   "source": [
    "x = 0.1\n",
    "print(\"%.52f\" % x)\n",
    "y = 0.2\n",
    "print(\"%.52f\" % y)\n",
    "print(\"%.52f\" % (x + y))\n",
    "print(\"%.52f\" % 0.3)"
   ]
  },
  {
   "cell_type": "markdown",
   "metadata": {},
   "source": [
    "2) Example of an \"infinite loop\" aimed to find:\n",
    "    $\\sum_{n=0}^{\\infty} \\frac{1}{2^n} = 1 + \\frac{1}{2} + \\frac{1}{4} + \\cdots + \\frac{1}{2^n} + \\cdots$"
   ]
  },
  {
   "cell_type": "code",
   "execution_count": null,
   "metadata": {},
   "outputs": [],
   "source": [
    "x = 1\n",
    "S = x\n",
    "count = 0\n",
    "while x > 0:\n",
    "  x = x/2\n",
    "  S = S + x\n",
    "  count += 1\n",
    "    \n",
    "print(count)"
   ]
  },
  {
   "cell_type": "markdown",
   "metadata": {},
   "source": [
    "3) How about $100 + \\sum_{n=0}^{\\infty} \\frac{1}{2^n}$ ?\n",
    "or $10^6 + \\sum_{n=0}^{\\infty} \\frac{1}{2^n}$ ?"
   ]
  },
  {
   "cell_type": "code",
   "execution_count": null,
   "metadata": {},
   "outputs": [],
   "source": [
    "x = 1\n",
    "a = 100000000\n",
    "y = a + x\n",
    "count = 0\n",
    "\n",
    "while y > a:\n",
    "  x = x/2\n",
    "  count += 1\n",
    "  y = a + x\n",
    "\n",
    "print(count)"
   ]
  },
  {
   "cell_type": "markdown",
   "metadata": {},
   "source": [
    "4) Does order of operation matter? \n",
    "Let's check the following simple arithmetic example:\n",
    "$1 - 3\\cdot(\\frac{4}{3}-1) = 1 - 3\\cdot\\frac{4}{3} -(-3) = 1 - 4 + 3 = 0$"
   ]
  },
  {
   "cell_type": "code",
   "execution_count": null,
   "metadata": {},
   "outputs": [],
   "source": [
    "1-(3*((4/3)-1)) == 0"
   ]
  },
  {
   "cell_type": "code",
   "execution_count": null,
   "metadata": {},
   "outputs": [],
   "source": [
    "print(\"%.52f\" %        (4/3)         )\n",
    "print(\"%.52f\" %       ((4/3)-1)      )\n",
    "print(\"%.52f\" %    (3*((4/3)-1))     )\n",
    "print(\"%.52f\" % (1-(3*((4/3)-1)))    )"
   ]
  },
  {
   "cell_type": "code",
   "execution_count": null,
   "metadata": {},
   "outputs": [],
   "source": [
    "import sys\n",
    "print(\"%.52f\" %  sys.float_info.epsilon)"
   ]
  },
  {
   "cell_type": "code",
   "execution_count": null,
   "metadata": {},
   "outputs": [],
   "source": []
  }
 ],
 "metadata": {
  "kernelspec": {
   "display_name": "Python 3 (ipykernel)",
   "language": "python",
   "name": "python3"
  },
  "language_info": {
   "codemirror_mode": {
    "name": "ipython",
    "version": 3
   },
   "file_extension": ".py",
   "mimetype": "text/x-python",
   "name": "python",
   "nbconvert_exporter": "python",
   "pygments_lexer": "ipython3",
   "version": "3.9.12"
  }
 },
 "nbformat": 4,
 "nbformat_minor": 2
}
