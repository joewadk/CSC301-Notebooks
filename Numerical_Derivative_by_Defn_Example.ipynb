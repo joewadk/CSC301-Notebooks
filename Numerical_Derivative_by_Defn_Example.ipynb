{
 "cells": [
  {
   "cell_type": "markdown",
   "metadata": {},
   "source": [
    "### Numerical Differentiation\n",
    "\n",
    "Computing numerical derivative using definition \n",
    "$$\\lim_{h \\to 0} \\frac{f(x+h)-f(x)}{h}$$\n",
    "\n",
    "Example: $f(x)=\\sin(x)$"
   ]
  },
  {
   "cell_type": "code",
   "execution_count": null,
   "metadata": {},
   "outputs": [],
   "source": [
    "import matplotlib.pyplot as plt\n",
    "import numpy as np\n",
    "\n",
    "a=1\n",
    "\n",
    "h=np.logspace(-1, -16, 16)\n",
    "\n",
    "def f(x):\n",
    "    return np.sin(x)\n",
    "\n",
    "Dh=(f(a+h) - f(a))/h\n",
    "Err = np.abs(Dh - np.cos(a))\n",
    "\n",
    "plt.loglog(h,Err,'.')\n",
    "plt.grid()"
   ]
  },
  {
   "cell_type": "markdown",
   "metadata": {},
   "source": [
    "### The Centered difference approximation\n",
    "\n",
    "The centered difference approximation of the derivative is given by \n",
    "$$\\lim_{h \\to 0} \\frac{f(x+h)-f(x-h)}{2h}$$\n",
    "has error $E(f)=\\frac{h^2}{6}f'''(\\nu)$ for $\\nu\\in [x, x+2h]$\n",
    "\n",
    "Using the same $f(x)=\\sin(x)$ example:"
   ]
  },
  {
   "cell_type": "code",
   "execution_count": null,
   "metadata": {},
   "outputs": [],
   "source": [
    "Dh=(f(a+h) - f(a-h))/(2*h)\n",
    "Err = np.abs(Dh - np.cos(a))\n",
    "\n",
    "plt.loglog(h,Err,'.')\n",
    "plt.grid()"
   ]
  },
  {
   "cell_type": "markdown",
   "metadata": {},
   "source": [
    "### Higher-order methods\n",
    "\n",
    "Using a polynomial approximation of the degree 2, we can derive another formula for numerical derivative:\n",
    "\n",
    "$$\\lim_{h \\to 0} \\frac{-3f(x)+4f(x+h)-f(x+2h)}{2h}$$\n",
    "    \n",
    "which has error $E(f)=\\frac{h^2}{3}f'''(\\nu)$ similar to the centred difference \n",
    "approximation, but uses 3 function evaluations insted of 2:"
   ]
  },
  {
   "cell_type": "code",
   "execution_count": null,
   "metadata": {},
   "outputs": [],
   "source": [
    "Dh=(-3*f(a) + 4*f(a+h) - f(a+2*h))/(2*h)\n",
    "Err = np.abs(Dh - np.cos(a))\n",
    "\n",
    "plt.loglog(h,Err,'.')\n",
    "plt.grid()"
   ]
  },
  {
   "cell_type": "markdown",
   "metadata": {},
   "source": [
    "### Five-point stencil\n",
    "\n",
    "https://en.wikipedia.org/wiki/Numerical_differentiation\n",
    "\n",
    "$$\\lim_{h \\to 0} \\frac{-f(x+2h)+8f(x+h)-8f(x-h)+f(x-2h)}{12h}$$\n",
    "\n",
    "has error $E(f)=\\frac{h^4}{30}f^{(5)}(\\nu)$ \n",
    "    "
   ]
  },
  {
   "cell_type": "code",
   "execution_count": null,
   "metadata": {},
   "outputs": [],
   "source": [
    "Dh=(-f(a+2*h) + 8*f(a+h) - 8*f(a-h) + f(a-2*h))/(12*h)\n",
    "Err = np.abs(Dh - np.cos(a))\n",
    "\n",
    "plt.loglog(h,Err,'.')\n",
    "plt.grid()"
   ]
  },
  {
   "cell_type": "code",
   "execution_count": null,
   "metadata": {},
   "outputs": [],
   "source": []
  }
 ],
 "metadata": {
  "kernelspec": {
   "display_name": "Python 3 (ipykernel)",
   "language": "python",
   "name": "python3"
  },
  "language_info": {
   "codemirror_mode": {
    "name": "ipython",
    "version": 3
   },
   "file_extension": ".py",
   "mimetype": "text/x-python",
   "name": "python",
   "nbconvert_exporter": "python",
   "pygments_lexer": "ipython3",
   "version": "3.9.12"
  }
 },
 "nbformat": 4,
 "nbformat_minor": 2
}
